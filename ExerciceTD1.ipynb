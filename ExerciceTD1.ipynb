{
 "cells": [
  {
   "cell_type": "markdown",
   "metadata": {},
   "source": [
    "EXERCICE 1 : PALINDROME"
   ]
  },
  {
   "cell_type": "code",
   "execution_count": 1,
   "metadata": {},
   "outputs": [
    {
     "name": "stdout",
     "output_type": "stream",
     "text": [
      "rotor est un palindrome\n"
     ]
    }
   ],
   "source": [
    "chaine = 'rotor'\n",
    "\n",
    "if chaine == chaine[::-1]:\n",
    "    print (chaine, \"est un palindrome\")\n",
    "else:\n",
    "    print (chaine, \"n'est pas un palindrome\")"
   ]
  },
  {
   "cell_type": "markdown",
   "metadata": {},
   "source": [
    "EXERCICE 2 : LANCER DE DÉS"
   ]
  },
  {
   "cell_type": "code",
   "execution_count": 34,
   "metadata": {},
   "outputs": [
    {
     "name": "stdout",
     "output_type": "stream",
     "text": [
      "[5, 4, 1, 5, 4]\n19\n"
     ]
    }
   ],
   "source": [
    "from random import *\n",
    "\n",
    "nbrDe = []\n",
    "sommeDe = []\n",
    "somme=0\n",
    "\n",
    "for j in range (0,5):\n",
    "    tmp = randint(1,6)\n",
    "    nbrDe.append(tmp)\n",
    "print(nbrDe)\n",
    "\n",
    "somme = sum(nbrDe)\n",
    "print(somme)\n",
    "\n"
   ]
  },
  {
   "cell_type": "markdown",
   "metadata": {},
   "source": [
    "EXERCICE 3 : CALCUL DES MOYENNES"
   ]
  },
  {
   "cell_type": "code",
   "execution_count": 3,
   "metadata": {},
   "outputs": [
    {
     "ename": "StdinNotImplementedError",
     "evalue": "raw_input was called, but this frontend does not support input requests.",
     "traceback": [
      "\u001b[1;31m---------------------------------------------------------------------------\u001b[0m",
      "\u001b[1;31mStdinNotImplementedError\u001b[0m                  Traceback (most recent call last)",
      "\u001b[1;32m<ipython-input-3-8ba4b412e4c6>\u001b[0m in \u001b[0;36m<module>\u001b[1;34m\u001b[0m\n\u001b[0;32m      7\u001b[0m \u001b[1;32mwhile\u001b[0m \u001b[0mcontinuer\u001b[0m\u001b[1;33m:\u001b[0m\u001b[1;33m\u001b[0m\u001b[0m\n\u001b[0;32m      8\u001b[0m \u001b[1;33m\u001b[0m\u001b[0m\n\u001b[1;32m----> 9\u001b[1;33m     \u001b[0mnomEtudiant\u001b[0m\u001b[1;33m=\u001b[0m\u001b[0minput\u001b[0m\u001b[1;33m(\u001b[0m\u001b[1;34m\"Entrez le nom de l'etudiant : \"\u001b[0m\u001b[1;33m)\u001b[0m\u001b[1;33m\u001b[0m\u001b[0m\n\u001b[0m\u001b[0;32m     10\u001b[0m     \u001b[1;32mfor\u001b[0m \u001b[0mi\u001b[0m \u001b[1;32min\u001b[0m \u001b[0mrange\u001b[0m\u001b[1;33m(\u001b[0m\u001b[1;36m1\u001b[0m\u001b[1;33m,\u001b[0m\u001b[1;36m6\u001b[0m\u001b[1;33m)\u001b[0m\u001b[1;33m:\u001b[0m\u001b[1;33m\u001b[0m\u001b[0m\n\u001b[0;32m     11\u001b[0m         \u001b[0mnoteEtudiant\u001b[0m\u001b[1;33m=\u001b[0m\u001b[0mint\u001b[0m\u001b[1;33m(\u001b[0m\u001b[0minput\u001b[0m\u001b[1;33m(\u001b[0m\u001b[1;34m\"Entrez la note n : \"\u001b[0m\u001b[1;33m)\u001b[0m\u001b[1;33m)\u001b[0m\u001b[1;33m\u001b[0m\u001b[0m\n",
      "\u001b[1;32m~\\PycharmProjects\\untitled\\venv\\lib\\site-packages\\ipykernel\\kernelbase.py\u001b[0m in \u001b[0;36mraw_input\u001b[1;34m(self, prompt)\u001b[0m\n\u001b[0;32m    846\u001b[0m         \u001b[1;32mif\u001b[0m \u001b[1;32mnot\u001b[0m \u001b[0mself\u001b[0m\u001b[1;33m.\u001b[0m\u001b[0m_allow_stdin\u001b[0m\u001b[1;33m:\u001b[0m\u001b[1;33m\u001b[0m\u001b[0m\n\u001b[0;32m    847\u001b[0m             raise StdinNotImplementedError(\n\u001b[1;32m--> 848\u001b[1;33m                 \u001b[1;34m\"raw_input was called, but this frontend does not support input requests.\"\u001b[0m\u001b[1;33m\u001b[0m\u001b[0m\n\u001b[0m\u001b[0;32m    849\u001b[0m             )\n\u001b[0;32m    850\u001b[0m         return self._input_request(str(prompt),\n",
      "\u001b[1;31mStdinNotImplementedError\u001b[0m: raw_input was called, but this frontend does not support input requests."
     ],
     "output_type": "error"
    }
   ],
   "source": [
    "bulletin = []\n",
    "listeNote = []\n",
    "j=1\n",
    "continuer=True\n",
    "\n",
    "\n",
    "while continuer:\n",
    "    \n",
    "    nomEtudiant=input(\"Entrez le nom de l'etudiant : \")\n",
    "    for i in range(1,6):        \n",
    "        noteEtudiant=int(input(\"Entrez la note n : \"))\n",
    "        bulletin.append(noteEtudiant)\n",
    "        \n",
    "    print(bulletin)\n",
    "    \n",
    "    \n",
    "    moyenne = (sum(bulletin))/5\n",
    "    print(\"La moyenne de l'eleve est de :\", moyenne)\n",
    "    j = j+1\n",
    "    listeNote.append(bulletin)\n",
    "    del bulletin[:]\n",
    "    \n",
    "    quitter = input(\"Souhaitez-vous ajouter un nouvel etudiant ? (o/n)\")\n",
    "    if quitter == \"n\":\n",
    "        print(\"Vous avez rentrer tous vos etudiants\")\n",
    "        continuer = False"
   ]
  },
  {
   "cell_type": "markdown",
   "metadata": {},
   "source": [
    "EXERCICE 4 : TRAITEMENT DES DONNEES CONTENU DANS UNE MATRICE"
   ]
  },
  {
   "cell_type": "markdown",
   "metadata": {},
   "source": [
    "EXERCICE 4.1"
   ]
  },
  {
   "cell_type": "code",
   "execution_count": null,
   "metadata": {},
   "outputs": [],
   "source": [
    "import numpy as np\n",
    "\n",
    "tab2d=[[6,2,3,5],\n",
    "   [4,6,2,6],\n",
    "   [1,3,6,7],\n",
    "   [3,6,3,8],\n",
    "   [6,0,1,4],]\n",
    "\n",
    "\n",
    "def sommeImpairs(tab2d):\n",
    "    b=[]\n",
    "    for i in range(0,5):\n",
    "        for j in range(0,4):\n",
    "            if tab2d[i][j]%2 != 0:\n",
    "                b.append(tab2d[i][j])\n",
    "    somme=sum(b)\n",
    "    print(b)\n",
    "    print(somme)\n",
    "\n",
    "sommeImpairs(tab2d)  "
   ]
  },
  {
   "cell_type": "markdown",
   "metadata": {},
   "source": [
    "EXERCICE 4.2"
   ]
  },
  {
   "cell_type": "code",
   "execution_count": null,
   "metadata": {},
   "outputs": [],
   "source": [
    "import numpy as np\n",
    "a=[[6,2,3,5],\n",
    "   [4,6,2,6],\n",
    "   [1,3,6,7],\n",
    "   [3,6,3,8]]\n",
    "\n",
    "b=[]\n",
    "c=[]\n",
    "\n",
    "k=3\n",
    "\n",
    "for i in range(0,4):\n",
    "    b.append(a[i][i])\n",
    "print(b)\n",
    "\n",
    "for i in range(0,4):\n",
    "    c.append(a[i][k])\n",
    "    k=k-1\n",
    "print(c)"
   ]
  },
  {
   "cell_type": "markdown",
   "metadata": {},
   "source": [
    "EXERCICE 4.3"
   ]
  },
  {
   "cell_type": "code",
   "execution_count": null,
   "metadata": {},
   "outputs": [],
   "source": [
    "import numpy as np\n",
    "\n",
    "a=[[6,2,3,5],\n",
    "   [4,6,2,6],\n",
    "   [1,3,6,7],\n",
    "   [3,6,3,8]]\n",
    "\n",
    "b=[]\n",
    "c=[]\n",
    "\n",
    "\n",
    "k=3\n",
    "\n",
    "for i in range(0,4):\n",
    "    b.append(a[i][i])\n",
    "print(b)\n",
    "\n",
    "for i in range(0,4):\n",
    "    c.append(a[i][k])\n",
    "    k=k-1\n",
    "print(c)\n",
    "\n",
    "sommeB=sum(b)\n",
    "sommeC=sum(c)\n",
    "\n",
    "\n",
    "if (sommeB==sommeC):\n",
    "    print(\"OUI\")\n",
    "else:\n",
    "    print(\"NON\")"
   ]
  },
  {
   "cell_type": "markdown",
   "metadata": {},
   "source": [
    "EXERCICE 5 : BASE DE DONNEES ETUDIANTE"
   ]
  },
  {
   "cell_type": "markdown",
   "metadata": {},
   "source": [
    "EXERCICE 5.1"
   ]
  },
  {
   "cell_type": "code",
   "execution_count": null,
   "metadata": {},
   "outputs": [],
   "source": [
    "baseEtudiant = []\n",
    "\n",
    "continuer=True\n",
    "\n",
    "\n",
    "while continuer:\n",
    "    \n",
    "\n",
    "    etudiant = []\n",
    "    \n",
    "    nomEtudiant=input(\"Entrez le nom de l'etudiant : \")\n",
    "    etudiant.append(nomEtudiant)\n",
    "    prenomEtudiant=input(\"Entrez le prenom de l'etudiant : \")\n",
    "    etudiant.append(prenomEtudiant)\n",
    "    numeroEtudiant=int(input(\"Entrez le numero de l'etudiant : \"))\n",
    "    etudiant.append(numeroEtudiant)\n",
    "          \n",
    "    print(etudiant)\n",
    "    \n",
    "    baseEtudiant.append(etudiant)\n",
    "    \n",
    "   \n",
    "    print(baseEtudiant)\n",
    "    \n",
    "    \n",
    "    quitter = input(\"Souhaitez-vous ajouter un nouvel etudiant ? (o/n)\")\n",
    "    if quitter == \"n\":\n",
    "        print(\"Vous avez rentrer tous vos etudiants\")\n",
    "        print(baseEtudiant)\n",
    "        continuer = False"
   ]
  },
  {
   "cell_type": "markdown",
   "metadata": {},
   "source": [
    "EXERCICE 5.2"
   ]
  },
  {
   "cell_type": "code",
   "execution_count": null,
   "metadata": {},
   "outputs": [],
   "source": []
  },
  {
   "cell_type": "markdown",
   "metadata": {},
   "source": [
    "EXERCICE 6 : ANNÉE BISSEXTILE"
   ]
  },
  {
   "cell_type": "code",
   "execution_count": 1,
   "metadata": {},
   "outputs": [
    {
     "ename": "StdinNotImplementedError",
     "evalue": "raw_input was called, but this frontend does not support input requests.",
     "traceback": [
      "\u001b[1;31m---------------------------------------------------------------------------\u001b[0m",
      "\u001b[1;31mStdinNotImplementedError\u001b[0m                  Traceback (most recent call last)",
      "\u001b[1;32m<ipython-input-1-7e09fb0216dd>\u001b[0m in \u001b[0;36m<module>\u001b[1;34m()\u001b[0m\n\u001b[1;32m----> 1\u001b[1;33m \u001b[0mannee\u001b[0m \u001b[1;33m=\u001b[0m \u001b[0minput\u001b[0m\u001b[1;33m(\u001b[0m\u001b[1;34m\"Saisissez une année : \"\u001b[0m\u001b[1;33m)\u001b[0m\u001b[1;33m\u001b[0m\u001b[0m\n\u001b[0m\u001b[0;32m      2\u001b[0m \u001b[0mannee\u001b[0m \u001b[1;33m=\u001b[0m \u001b[0mint\u001b[0m\u001b[1;33m(\u001b[0m\u001b[0mannee\u001b[0m\u001b[1;33m)\u001b[0m\u001b[1;33m\u001b[0m\u001b[0m\n\u001b[0;32m      3\u001b[0m \u001b[0mbissextile\u001b[0m \u001b[1;33m=\u001b[0m \u001b[1;32mFalse\u001b[0m\u001b[1;33m\u001b[0m\u001b[0m\n\u001b[0;32m      4\u001b[0m \u001b[1;33m\u001b[0m\u001b[0m\n\u001b[0;32m      5\u001b[0m \u001b[1;32mif\u001b[0m \u001b[0mannee\u001b[0m \u001b[1;33m%\u001b[0m \u001b[1;36m400\u001b[0m \u001b[1;33m==\u001b[0m \u001b[1;36m0\u001b[0m\u001b[1;33m:\u001b[0m\u001b[1;33m\u001b[0m\u001b[0m\n",
      "\u001b[1;32m~\\Anaconda3\\lib\\site-packages\\ipykernel\\kernelbase.py\u001b[0m in \u001b[0;36mraw_input\u001b[1;34m(self, prompt)\u001b[0m\n\u001b[0;32m    697\u001b[0m         \u001b[1;32mif\u001b[0m \u001b[1;32mnot\u001b[0m \u001b[0mself\u001b[0m\u001b[1;33m.\u001b[0m\u001b[0m_allow_stdin\u001b[0m\u001b[1;33m:\u001b[0m\u001b[1;33m\u001b[0m\u001b[0m\n\u001b[0;32m    698\u001b[0m             raise StdinNotImplementedError(\n\u001b[1;32m--> 699\u001b[1;33m                 \u001b[1;34m\"raw_input was called, but this frontend does not support input requests.\"\u001b[0m\u001b[1;33m\u001b[0m\u001b[0m\n\u001b[0m\u001b[0;32m    700\u001b[0m             )\n\u001b[0;32m    701\u001b[0m         return self._input_request(str(prompt),\n",
      "\u001b[1;31mStdinNotImplementedError\u001b[0m: raw_input was called, but this frontend does not support input requests."
     ],
     "output_type": "error"
    }
   ],
   "source": [
    "annee = input(\"Saisissez une année : \")\n",
    "annee = int(annee)\n",
    "bissextile = False\n",
    "\n",
    "if annee % 400 == 0:\n",
    "    bissextile = True\n",
    "elif annee % 100 == 0:\n",
    "    bissextile = False\n",
    "elif annee % 4 == 0:\n",
    "    bissextile = True\n",
    "\n",
    "if bissextile:\n",
    "    print(\"L'année\", annee, \"est bissextile\")\n",
    "else:\n",
    "    print(\"L'année\", annee, \"n'est pas bissextile\")"
   ]
  },
  {
   "cell_type": "markdown",
   "metadata": {},
   "source": [
    "EXERCICE 7 : ECHANGE DE TRIANGLE"
   ]
  },
  {
   "cell_type": "markdown",
   "metadata": {},
   "source": [
    "7.1 : BOUCLE WHILE"
   ]
  },
  {
   "cell_type": "code",
   "execution_count": 1,
   "metadata": {},
   "outputs": [
    {
     "name": "stdout",
     "output_type": "stream",
     "text": [
      "[[10, 11, 45, 78], [23, 44, 12, 56], [56, 90, 67, 89], [47, 78, 55, 34]]\n[[10, 23, 56, 47], [11, 44, 90, 78], [45, 12, 67, 55], [78, 56, 89, 34]]\n"
     ]
    }
   ],
   "source": [
    "tab=[[10,11,45,78],\n",
    "     [23,44,12,56],\n",
    "     [56,90,67,89],\n",
    "     [47,78,55,34]]\n",
    "\n",
    "nbLigne=4\n",
    "nbColonne=4\n",
    "\n",
    "temp=[]\n",
    "i=0\n",
    "\n",
    "print(tab);\n",
    "\n",
    "while (i<nbLigne):\n",
    "    j=i+1\n",
    "    while(j<nbColonne):\n",
    "        temp = tab[i][j]\n",
    "        tab[i][j] = tab[j][i]\n",
    "        tab[j][i]=temp\n",
    "        j=j+1\n",
    "    i=i+1\n",
    "\n",
    "print(tab)"
   ]
  },
  {
   "cell_type": "markdown",
   "metadata": {},
   "source": [
    "7.2 : BOUCLE FOR (ne fonctionne pas)"
   ]
  },
  {
   "cell_type": "code",
   "execution_count": null,
   "metadata": {},
   "outputs": [],
   "source": [
    "tab=[[10,11,45,78],\n",
    "     [23,44,12,56],\n",
    "     [56,90,67,89],\n",
    "     [47,78,55,34]]\n",
    "\n",
    "nbLigne=4\n",
    "nbColonne=4\n",
    "\n",
    "\n",
    "i=0\n",
    "\n",
    "print(tab);\n",
    "\n",
    "\n",
    "for i in range (nbLigne):\n",
    "    j=0\n",
    "    temp=[]\n",
    "    \n",
    "    for j in range (1, nbColonne):\n",
    "        temp=(tab[i][j])\n",
    "        tab[i][j]=tab[j][i]\n",
    "        tab[j][i]=temp\n",
    "        \n",
    "\n",
    "\n",
    "print(tab)"
   ]
  },
  {
   "cell_type": "markdown",
   "metadata": {},
   "source": [
    "EXERCICE 8 : SUITE DE FIBONACCI"
   ]
  },
  {
   "cell_type": "code",
   "execution_count": 2,
   "metadata": {},
   "outputs": [
    {
     "ename": "StdinNotImplementedError",
     "evalue": "raw_input was called, but this frontend does not support input requests.",
     "traceback": [
      "\u001b[1;31m---------------------------------------------------------------------------\u001b[0m",
      "\u001b[1;31mStdinNotImplementedError\u001b[0m                  Traceback (most recent call last)",
      "\u001b[1;32m<ipython-input-2-6df530d03f33>\u001b[0m in \u001b[0;36m<module>\u001b[1;34m()\u001b[0m\n\u001b[1;32m----> 1\u001b[1;33m \u001b[0mn\u001b[0m\u001b[1;33m=\u001b[0m\u001b[0mint\u001b[0m\u001b[1;33m(\u001b[0m\u001b[0minput\u001b[0m\u001b[1;33m(\u001b[0m\u001b[1;34m\"Entrez votre entier pour la suite de fibonacci : \"\u001b[0m\u001b[1;33m)\u001b[0m\u001b[1;33m)\u001b[0m\u001b[1;33m\u001b[0m\u001b[0m\n\u001b[0m\u001b[0;32m      2\u001b[0m \u001b[0ma\u001b[0m\u001b[1;33m,\u001b[0m\u001b[0mb\u001b[0m\u001b[1;33m,\u001b[0m\u001b[0mc\u001b[0m\u001b[1;33m=\u001b[0m\u001b[1;36m1\u001b[0m\u001b[1;33m,\u001b[0m\u001b[1;36m1\u001b[0m\u001b[1;33m,\u001b[0m\u001b[1;36m1\u001b[0m\u001b[1;33m\u001b[0m\u001b[0m\n\u001b[0;32m      3\u001b[0m \u001b[1;32mif\u001b[0m \u001b[1;33m(\u001b[0m\u001b[0mn\u001b[0m\u001b[1;33m==\u001b[0m\u001b[1;36m1\u001b[0m\u001b[1;33m)\u001b[0m \u001b[1;33m:\u001b[0m\u001b[1;33m\u001b[0m\u001b[0m\n\u001b[0;32m      4\u001b[0m     \u001b[0mprint\u001b[0m\u001b[1;33m(\u001b[0m\u001b[0ma\u001b[0m\u001b[1;33m)\u001b[0m\u001b[1;33m\u001b[0m\u001b[0m\n\u001b[0;32m      5\u001b[0m \u001b[1;32melif\u001b[0m \u001b[1;33m(\u001b[0m\u001b[0mn\u001b[0m\u001b[1;33m==\u001b[0m\u001b[1;36m2\u001b[0m\u001b[1;33m)\u001b[0m \u001b[1;33m:\u001b[0m\u001b[1;33m\u001b[0m\u001b[0m\n",
      "\u001b[1;32m~\\Anaconda3\\lib\\site-packages\\ipykernel\\kernelbase.py\u001b[0m in \u001b[0;36mraw_input\u001b[1;34m(self, prompt)\u001b[0m\n\u001b[0;32m    697\u001b[0m         \u001b[1;32mif\u001b[0m \u001b[1;32mnot\u001b[0m \u001b[0mself\u001b[0m\u001b[1;33m.\u001b[0m\u001b[0m_allow_stdin\u001b[0m\u001b[1;33m:\u001b[0m\u001b[1;33m\u001b[0m\u001b[0m\n\u001b[0;32m    698\u001b[0m             raise StdinNotImplementedError(\n\u001b[1;32m--> 699\u001b[1;33m                 \u001b[1;34m\"raw_input was called, but this frontend does not support input requests.\"\u001b[0m\u001b[1;33m\u001b[0m\u001b[0m\n\u001b[0m\u001b[0;32m    700\u001b[0m             )\n\u001b[0;32m    701\u001b[0m         return self._input_request(str(prompt),\n",
      "\u001b[1;31mStdinNotImplementedError\u001b[0m: raw_input was called, but this frontend does not support input requests."
     ],
     "output_type": "error"
    }
   ],
   "source": [
    "n=int(input(\"Entrez votre entier pour la suite de fibonacci : \"))\n",
    "a,b,c=1,1,1\n",
    "if (n==1) :\n",
    "    print(a)\n",
    "elif (n==2) :\n",
    "    print(b)\n",
    "else :\n",
    "    while (c<n-2) :\n",
    "        a,b,c=b,a+b,c+1\n",
    "    print(a+b)"
   ]
  },
  {
   "cell_type": "code",
   "execution_count": null,
   "metadata": {},
   "outputs": [],
   "source": []
  }
 ],
 "metadata": {
  "kernelspec": {
   "display_name": "Python 3",
   "language": "python",
   "name": "python3"
  },
  "language_info": {
   "codemirror_mode": {
    "name": "ipython",
    "version": 3
   },
   "file_extension": ".py",
   "mimetype": "text/x-python",
   "name": "python",
   "nbconvert_exporter": "python",
   "pygments_lexer": "ipython3",
   "version": "3.7.0"
  }
 },
 "nbformat": 4,
 "nbformat_minor": 2
}
